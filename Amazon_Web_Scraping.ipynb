{
 "cells": [
  {
   "cell_type": "code",
   "execution_count": 3,
   "id": "9d77c55d",
   "metadata": {},
   "outputs": [],
   "source": [
    "from bs4 import BeautifulSoup\n",
    "import pandas as pd\n",
    "import requests"
   ]
  },
  {
   "cell_type": "code",
   "execution_count": 4,
   "id": "14c294d8",
   "metadata": {},
   "outputs": [],
   "source": [
    "URL = \"https://www.amazon.in/s?k=playstation+5&sprefix=playsta%2Caps%2C206&ref=nb_sb_ss_ts-doa-p_1_7\""
   ]
  },
  {
   "cell_type": "code",
   "execution_count": 9,
   "id": "0044dca9",
   "metadata": {},
   "outputs": [],
   "source": [
    "HEADERS = ({ 'User-Agent':'Mozilla/5.0 (Windows NT 10.0; Win64; x64) AppleWebKit/537.36 (KHTML, like Gecko) Chrome/109.0.0.0 Safari/537.36', 'Accept-Language': 'en-US, en;q=0.5' })"
   ]
  },
  {
   "cell_type": "code",
   "execution_count": 11,
   "id": "7150221b",
   "metadata": {},
   "outputs": [],
   "source": [
    "webpage = requests.get(URL, headers=HEADERS)"
   ]
  },
  {
   "cell_type": "code",
   "execution_count": 12,
   "id": "b42f5bef",
   "metadata": {},
   "outputs": [
    {
     "data": {
      "text/plain": [
       "<Response [200]>"
      ]
     },
     "execution_count": 12,
     "metadata": {},
     "output_type": "execute_result"
    }
   ],
   "source": [
    "webpage"
   ]
  },
  {
   "cell_type": "code",
   "execution_count": 14,
   "id": "7353c4fe",
   "metadata": {},
   "outputs": [
    {
     "data": {
      "text/plain": [
       "bytes"
      ]
     },
     "execution_count": 14,
     "metadata": {},
     "output_type": "execute_result"
    }
   ],
   "source": [
    "type(webpage.content)"
   ]
  },
  {
   "cell_type": "code",
   "execution_count": 15,
   "id": "ea983cff",
   "metadata": {},
   "outputs": [],
   "source": [
    "soup = BeautifulSoup(webpage.content, \"html.parser\")"
   ]
  },
  {
   "cell_type": "code",
   "execution_count": 50,
   "id": "fd24b94f",
   "metadata": {},
   "outputs": [],
   "source": [
    "links = soup.find_all(\"a\", attrs={'class':'a-link-normal s-underline-text s-underline-link-text s-link-style a-text-normal'})"
   ]
  },
  {
   "cell_type": "code",
   "execution_count": 51,
   "id": "8df2477e",
   "metadata": {},
   "outputs": [],
   "source": [
    "link = links[1].get(\"href\")"
   ]
  },
  {
   "cell_type": "code",
   "execution_count": 52,
   "id": "94db6266",
   "metadata": {},
   "outputs": [],
   "source": [
    "product_link = \"https://www.amazon.in\" + link"
   ]
  },
  {
   "cell_type": "code",
   "execution_count": 53,
   "id": "720ed01d",
   "metadata": {},
   "outputs": [
    {
     "data": {
      "text/plain": [
       "'https://www.amazon.in/God-Ragnarok-Launch-Game-PlayStation/dp/B0B68KX5KQ/ref=sr_1_2?keywords=playstation+5&qid=1673857627&sprefix=playsta%2Caps%2C206&sr=8-2'"
      ]
     },
     "execution_count": 53,
     "metadata": {},
     "output_type": "execute_result"
    }
   ],
   "source": [
    "product_link"
   ]
  },
  {
   "cell_type": "code",
   "execution_count": 54,
   "id": "aa605b5d",
   "metadata": {},
   "outputs": [],
   "source": [
    "new_webpage = requests.get(product_link, headers=HEADERS)"
   ]
  },
  {
   "cell_type": "code",
   "execution_count": 55,
   "id": "ca61c12d",
   "metadata": {},
   "outputs": [],
   "source": [
    "newsoup = BeautifulSoup(new_webpage.content, \"html.parser\")"
   ]
  },
  {
   "cell_type": "code",
   "execution_count": 56,
   "id": "e7817bd6",
   "metadata": {},
   "outputs": [
    {
     "data": {
      "text/plain": [
       "'God Of War Ragnarok | Launch Edition | PS5 Game (PlayStation 5)'"
      ]
     },
     "execution_count": 56,
     "metadata": {},
     "output_type": "execute_result"
    }
   ],
   "source": [
    "title = newsoup.find(\"span\", attrs={'id':'productTitle'}).text.strip()\n",
    "title"
   ]
  },
  {
   "cell_type": "code",
   "execution_count": 57,
   "id": "b450fc3a",
   "metadata": {},
   "outputs": [
    {
     "data": {
      "text/plain": [
       "'4799'"
      ]
     },
     "execution_count": 57,
     "metadata": {},
     "output_type": "execute_result"
    }
   ],
   "source": [
    "price = (newsoup.find(\"span\", attrs={'class':'a-offscreen'}).text)[1:].split('.')[0].replace(',','')\n",
    "price"
   ]
  },
  {
   "cell_type": "code",
   "execution_count": 59,
   "id": "f757306b",
   "metadata": {},
   "outputs": [
    {
     "data": {
      "text/plain": [
       "'4.7'"
      ]
     },
     "execution_count": 59,
     "metadata": {},
     "output_type": "execute_result"
    }
   ],
   "source": [
    "rating = newsoup.find(\"span\", attrs={'class':'a-icon-alt'}).text.strip().split(' ')[0]\n",
    "rating"
   ]
  },
  {
   "cell_type": "code",
   "execution_count": 72,
   "id": "b2fad143",
   "metadata": {},
   "outputs": [
    {
     "data": {
      "text/plain": [
       "'163'"
      ]
     },
     "execution_count": 72,
     "metadata": {},
     "output_type": "execute_result"
    }
   ],
   "source": [
    "review_count = newsoup.find(\"span\", attrs={'id':'acrCustomerReviewText'}).text.split(' ')[0]\n",
    "review_count"
   ]
  },
  {
   "cell_type": "code",
   "execution_count": 68,
   "id": "1d8ca4a4",
   "metadata": {},
   "outputs": [
    {
     "data": {
      "text/plain": [
       "'In stock.'"
      ]
     },
     "execution_count": 68,
     "metadata": {},
     "output_type": "execute_result"
    }
   ],
   "source": [
    "availability = newsoup.find(\"div\", attrs={'id':'availability'}).find(\"span\").string.strip()\n",
    "availability"
   ]
  }
 ],
 "metadata": {
  "kernelspec": {
   "display_name": "Python 3 (ipykernel)",
   "language": "python",
   "name": "python3"
  },
  "language_info": {
   "codemirror_mode": {
    "name": "ipython",
    "version": 3
   },
   "file_extension": ".py",
   "mimetype": "text/x-python",
   "name": "python",
   "nbconvert_exporter": "python",
   "pygments_lexer": "ipython3",
   "version": "3.11.1"
  }
 },
 "nbformat": 4,
 "nbformat_minor": 5
}
